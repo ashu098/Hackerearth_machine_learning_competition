{
 "cells": [
  {
   "cell_type": "markdown",
   "metadata": {
    "papermill": {
     "duration": 0.017296,
     "end_time": "2021-01-24T06:31:46.417074",
     "exception": false,
     "start_time": "2021-01-24T06:31:46.399778",
     "status": "completed"
    },
    "tags": []
   },
   "source": [
    "- Problem description: https://www.hackerearth.com/challenges/competitive/hackerearth-machine-learning-challenge-predict-grievance-importance/"
   ]
  },
  {
   "cell_type": "code",
   "execution_count": 1,
   "metadata": {
    "execution": {
     "iopub.execute_input": "2021-01-24T06:31:46.451492Z",
     "iopub.status.busy": "2021-01-24T06:31:46.450873Z",
     "iopub.status.idle": "2021-01-24T06:31:47.285766Z",
     "shell.execute_reply": "2021-01-24T06:31:47.285086Z"
    },
    "papermill": {
     "duration": 0.854277,
     "end_time": "2021-01-24T06:31:47.285870",
     "exception": false,
     "start_time": "2021-01-24T06:31:46.431593",
     "status": "completed"
    },
    "tags": []
   },
   "outputs": [],
   "source": [
    "import pandas as pd\n",
    "import numpy as np\n",
    "from sklearn import preprocessing\n",
    "le = preprocessing.LabelEncoder()"
   ]
  },
  {
   "cell_type": "code",
   "execution_count": 2,
   "metadata": {
    "execution": {
     "iopub.execute_input": "2021-01-24T06:31:47.334627Z",
     "iopub.status.busy": "2021-01-24T06:31:47.333999Z",
     "iopub.status.idle": "2021-01-24T06:31:47.994200Z",
     "shell.execute_reply": "2021-01-24T06:31:47.994909Z"
    },
    "papermill": {
     "duration": 0.693553,
     "end_time": "2021-01-24T06:31:47.995099",
     "exception": false,
     "start_time": "2021-01-24T06:31:47.301546",
     "status": "completed"
    },
    "tags": []
   },
   "outputs": [
    {
     "name": "stderr",
     "output_type": "stream",
     "text": [
      "<string>:2: DtypeWarning: Columns (16,17,18,19,20,22,23,24,25,26,27,28,45,49,50,51) have mixed types.Specify dtype option on import or set low_memory=False.\n"
     ]
    },
    {
     "name": "stdout",
     "output_type": "stream",
     "text": [
      "CPU times: user 377 ms, sys: 57.3 ms, total: 434 ms\n",
      "Wall time: 640 ms\n"
     ]
    },
    {
     "name": "stderr",
     "output_type": "stream",
     "text": [
      "<string>:2: DtypeWarning: Columns (14,15,16,17,18,19,20,22,23,24,25,49,50,51) have mixed types.Specify dtype option on import or set low_memory=False.\n"
     ]
    },
    {
     "data": {
      "text/html": [
       "<div>\n",
       "<style scoped>\n",
       "    .dataframe tbody tr th:only-of-type {\n",
       "        vertical-align: middle;\n",
       "    }\n",
       "\n",
       "    .dataframe tbody tr th {\n",
       "        vertical-align: top;\n",
       "    }\n",
       "\n",
       "    .dataframe thead th {\n",
       "        text-align: right;\n",
       "    }\n",
       "</style>\n",
       "<table border=\"1\" class=\"dataframe\">\n",
       "  <thead>\n",
       "    <tr style=\"text-align: right;\">\n",
       "      <th></th>\n",
       "      <th>appno</th>\n",
       "      <th>application</th>\n",
       "      <th>country.alpha2</th>\n",
       "      <th>country.name</th>\n",
       "      <th>decisiondate</th>\n",
       "      <th>docname</th>\n",
       "      <th>doctypebranch</th>\n",
       "      <th>ecli</th>\n",
       "      <th>introductiondate</th>\n",
       "      <th>issue.0</th>\n",
       "      <th>...</th>\n",
       "      <th>ccl_article=6</th>\n",
       "      <th>ccl_article=7</th>\n",
       "      <th>ccl_article=8</th>\n",
       "      <th>ccl_article=9</th>\n",
       "      <th>ccl_article=p1</th>\n",
       "      <th>ccl_article=p12</th>\n",
       "      <th>ccl_article=p4</th>\n",
       "      <th>ccl_article=p6</th>\n",
       "      <th>ccl_article=p7</th>\n",
       "      <th>importance</th>\n",
       "    </tr>\n",
       "  </thead>\n",
       "  <tbody>\n",
       "    <tr>\n",
       "      <th>0</th>\n",
       "      <td>2052/08</td>\n",
       "      <td>MS WORD</td>\n",
       "      <td>ru</td>\n",
       "      <td>Russian Federation</td>\n",
       "      <td>NaN</td>\n",
       "      <td>CASE OF KOKOSHKINA v. RUSSIA</td>\n",
       "      <td>CHAMBER</td>\n",
       "      <td>ECLI:CE:ECHR:2009:0528JUD000205208</td>\n",
       "      <td>NaN</td>\n",
       "      <td>NaN</td>\n",
       "      <td>...</td>\n",
       "      <td>0</td>\n",
       "      <td>0</td>\n",
       "      <td>0</td>\n",
       "      <td>0</td>\n",
       "      <td>0</td>\n",
       "      <td>0</td>\n",
       "      <td>0</td>\n",
       "      <td>0</td>\n",
       "      <td>0</td>\n",
       "      <td>4</td>\n",
       "    </tr>\n",
       "    <tr>\n",
       "      <th>1</th>\n",
       "      <td>4728/07</td>\n",
       "      <td>MS WORD</td>\n",
       "      <td>tr</td>\n",
       "      <td>Turkey</td>\n",
       "      <td>NaN</td>\n",
       "      <td>CASE OF ÖZCAN v. TURKEY</td>\n",
       "      <td>COMMITTEE</td>\n",
       "      <td>ECLI:CE:ECHR:2018:0710JUD000472807</td>\n",
       "      <td>NaN</td>\n",
       "      <td>NaN</td>\n",
       "      <td>...</td>\n",
       "      <td>0</td>\n",
       "      <td>0</td>\n",
       "      <td>0</td>\n",
       "      <td>0</td>\n",
       "      <td>0</td>\n",
       "      <td>0</td>\n",
       "      <td>0</td>\n",
       "      <td>0</td>\n",
       "      <td>0</td>\n",
       "      <td>4</td>\n",
       "    </tr>\n",
       "    <tr>\n",
       "      <th>2</th>\n",
       "      <td>44135/06</td>\n",
       "      <td>MS WORD</td>\n",
       "      <td>si</td>\n",
       "      <td>Slovenia</td>\n",
       "      <td>NaN</td>\n",
       "      <td>CASE OF DANIJEL PEČNIK v. SLOVENIA</td>\n",
       "      <td>CHAMBER</td>\n",
       "      <td>ECLI:CE:ECHR:2012:1018JUD004413506</td>\n",
       "      <td>NaN</td>\n",
       "      <td>NaN</td>\n",
       "      <td>...</td>\n",
       "      <td>1</td>\n",
       "      <td>0</td>\n",
       "      <td>0</td>\n",
       "      <td>0</td>\n",
       "      <td>0</td>\n",
       "      <td>0</td>\n",
       "      <td>0</td>\n",
       "      <td>0</td>\n",
       "      <td>0</td>\n",
       "      <td>4</td>\n",
       "    </tr>\n",
       "    <tr>\n",
       "      <th>3</th>\n",
       "      <td>2607/08</td>\n",
       "      <td>MS WORD</td>\n",
       "      <td>ch</td>\n",
       "      <td>Switzerland</td>\n",
       "      <td>NaN</td>\n",
       "      <td>CASE OF PALANCI v. SWITZERLAND</td>\n",
       "      <td>CHAMBER</td>\n",
       "      <td>ECLI:CE:ECHR:2014:0325JUD000260708</td>\n",
       "      <td>NaN</td>\n",
       "      <td>NaN</td>\n",
       "      <td>...</td>\n",
       "      <td>0</td>\n",
       "      <td>0</td>\n",
       "      <td>-1</td>\n",
       "      <td>0</td>\n",
       "      <td>0</td>\n",
       "      <td>0</td>\n",
       "      <td>0</td>\n",
       "      <td>0</td>\n",
       "      <td>0</td>\n",
       "      <td>4</td>\n",
       "    </tr>\n",
       "    <tr>\n",
       "      <th>4</th>\n",
       "      <td>27001/06</td>\n",
       "      <td>MS WORD</td>\n",
       "      <td>ru</td>\n",
       "      <td>Russian Federation</td>\n",
       "      <td>NaN</td>\n",
       "      <td>CASE OF AMANAT ILYASOVA AND OTHERS v. RUSSIA</td>\n",
       "      <td>CHAMBER</td>\n",
       "      <td>ECLI:CE:ECHR:2009:1001JUD002700106</td>\n",
       "      <td>NaN</td>\n",
       "      <td>NaN</td>\n",
       "      <td>...</td>\n",
       "      <td>0</td>\n",
       "      <td>0</td>\n",
       "      <td>0</td>\n",
       "      <td>0</td>\n",
       "      <td>0</td>\n",
       "      <td>0</td>\n",
       "      <td>0</td>\n",
       "      <td>0</td>\n",
       "      <td>0</td>\n",
       "      <td>4</td>\n",
       "    </tr>\n",
       "  </tbody>\n",
       "</table>\n",
       "<p>5 rows × 328 columns</p>\n",
       "</div>"
      ],
      "text/plain": [
       "      appno application country.alpha2        country.name decisiondate  \\\n",
       "0   2052/08     MS WORD             ru  Russian Federation          NaN   \n",
       "1   4728/07     MS WORD             tr              Turkey          NaN   \n",
       "2  44135/06     MS WORD             si            Slovenia          NaN   \n",
       "3   2607/08     MS WORD             ch         Switzerland          NaN   \n",
       "4  27001/06     MS WORD             ru  Russian Federation          NaN   \n",
       "\n",
       "                                        docname doctypebranch  \\\n",
       "0                  CASE OF KOKOSHKINA v. RUSSIA       CHAMBER   \n",
       "1                       CASE OF ÖZCAN v. TURKEY     COMMITTEE   \n",
       "2            CASE OF DANIJEL PEČNIK v. SLOVENIA       CHAMBER   \n",
       "3                CASE OF PALANCI v. SWITZERLAND       CHAMBER   \n",
       "4  CASE OF AMANAT ILYASOVA AND OTHERS v. RUSSIA       CHAMBER   \n",
       "\n",
       "                                 ecli introductiondate issue.0  ...  \\\n",
       "0  ECLI:CE:ECHR:2009:0528JUD000205208              NaN     NaN  ...   \n",
       "1  ECLI:CE:ECHR:2018:0710JUD000472807              NaN     NaN  ...   \n",
       "2  ECLI:CE:ECHR:2012:1018JUD004413506              NaN     NaN  ...   \n",
       "3  ECLI:CE:ECHR:2014:0325JUD000260708              NaN     NaN  ...   \n",
       "4  ECLI:CE:ECHR:2009:1001JUD002700106              NaN     NaN  ...   \n",
       "\n",
       "  ccl_article=6 ccl_article=7 ccl_article=8 ccl_article=9 ccl_article=p1  \\\n",
       "0             0             0             0             0              0   \n",
       "1             0             0             0             0              0   \n",
       "2             1             0             0             0              0   \n",
       "3             0             0            -1             0              0   \n",
       "4             0             0             0             0              0   \n",
       "\n",
       "  ccl_article=p12 ccl_article=p4 ccl_article=p6 ccl_article=p7 importance  \n",
       "0               0              0              0              0          4  \n",
       "1               0              0              0              0          4  \n",
       "2               0              0              0              0          4  \n",
       "3               0              0              0              0          4  \n",
       "4               0              0              0              0          4  \n",
       "\n",
       "[5 rows x 328 columns]"
      ]
     },
     "execution_count": 2,
     "metadata": {},
     "output_type": "execute_result"
    }
   ],
   "source": [
    "%%time\n",
    "train = pd.read_csv('../input/resolving-citizens-grievances-v1/dataset/train.csv')\n",
    "test = pd.read_csv('../input/resolving-citizens-grievances-v1/dataset/test.csv')\n",
    "train.head()\n"
   ]
  },
  {
   "cell_type": "code",
   "execution_count": 3,
   "metadata": {
    "execution": {
     "iopub.execute_input": "2021-01-24T06:31:48.033505Z",
     "iopub.status.busy": "2021-01-24T06:31:48.032666Z",
     "iopub.status.idle": "2021-01-24T06:31:48.036180Z",
     "shell.execute_reply": "2021-01-24T06:31:48.036590Z"
    },
    "papermill": {
     "duration": 0.024512,
     "end_time": "2021-01-24T06:31:48.036698",
     "exception": false,
     "start_time": "2021-01-24T06:31:48.012186",
     "status": "completed"
    },
    "tags": []
   },
   "outputs": [
    {
     "data": {
      "text/plain": [
       "((8878, 328), (4760, 327))"
      ]
     },
     "execution_count": 3,
     "metadata": {},
     "output_type": "execute_result"
    }
   ],
   "source": [
    "train.shape, test.shape"
   ]
  },
  {
   "cell_type": "code",
   "execution_count": 4,
   "metadata": {
    "execution": {
     "iopub.execute_input": "2021-01-24T06:31:48.077234Z",
     "iopub.status.busy": "2021-01-24T06:31:48.076691Z",
     "iopub.status.idle": "2021-01-24T06:31:48.149279Z",
     "shell.execute_reply": "2021-01-24T06:31:48.148776Z"
    },
    "papermill": {
     "duration": 0.095983,
     "end_time": "2021-01-24T06:31:48.149391",
     "exception": false,
     "start_time": "2021-01-24T06:31:48.053408",
     "status": "completed"
    },
    "tags": []
   },
   "outputs": [
    {
     "data": {
      "text/plain": [
       "(13638, 329)"
      ]
     },
     "execution_count": 4,
     "metadata": {},
     "output_type": "execute_result"
    }
   ],
   "source": [
    "# combining test and train to do feature engineering.\n",
    "test['importance']=-1\n",
    "train['label'] = 'train'\n",
    "test['label'] = 'test'\n",
    "combined = pd.concat([train,test],axis=0)\n",
    "combined.shape"
   ]
  },
  {
   "cell_type": "code",
   "execution_count": 5,
   "metadata": {
    "execution": {
     "iopub.execute_input": "2021-01-24T06:31:48.189799Z",
     "iopub.status.busy": "2021-01-24T06:31:48.189227Z",
     "iopub.status.idle": "2021-01-24T06:31:48.652006Z",
     "shell.execute_reply": "2021-01-24T06:31:48.651181Z"
    },
    "papermill": {
     "duration": 0.485455,
     "end_time": "2021-01-24T06:31:48.652197",
     "exception": false,
     "start_time": "2021-01-24T06:31:48.166742",
     "status": "completed"
    },
    "tags": []
   },
   "outputs": [
    {
     "name": "stdout",
     "output_type": "stream",
     "text": [
      "appno unique values->  13467 null values-->  0\n",
      "application unique values->  1 null values-->  0\n",
      "country.alpha2 unique values->  46 null values-->  0\n",
      "country.name unique values->  46 null values-->  0\n",
      "decisiondate unique values->  274 null values-->  12603\n",
      "docname unique values->  13201 null values-->  0\n",
      "doctypebranch unique values->  3 null values-->  0\n",
      "ecli unique values->  13638 null values-->  0\n",
      "introductiondate unique values->  720 null values-->  12602\n",
      "issue.0 unique values->  3095 null values-->  10162\n",
      "issue.1 unique values->  1710 null values-->  11780\n",
      "issue.10 unique values->  29 null values-->  13609\n",
      "issue.11 unique values->  25 null values-->  13613\n",
      "issue.12 unique values->  21 null values-->  13617\n",
      "issue.13 unique values->  16 null values-->  13622\n",
      "issue.14 unique values->  14 null values-->  13624\n",
      "issue.15 unique values->  11 null values-->  13627\n",
      "issue.16 unique values->  7 null values-->  13631\n",
      "issue.17 unique values->  5 null values-->  13633\n",
      "issue.18 unique values->  4 null values-->  13634\n",
      "issue.19 unique values->  4 null values-->  13634\n",
      "issue.2 unique values->  918 null values-->  12641\n",
      "issue.20 unique values->  4 null values-->  13634\n",
      "issue.21 unique values->  3 null values-->  13635\n",
      "issue.22 unique values->  3 null values-->  13635\n",
      "issue.23 unique values->  3 null values-->  13635\n",
      "issue.24 unique values->  1 null values-->  13637\n",
      "issue.25 unique values->  1 null values-->  13637\n",
      "issue.26 unique values->  1 null values-->  13637\n",
      "issue.3 unique values->  533 null values-->  13061\n",
      "issue.4 unique values->  306 null values-->  13321\n",
      "issue.5 unique values->  186 null values-->  13449\n",
      "issue.6 unique values->  117 null values-->  13521\n",
      "issue.7 unique values->  84 null values-->  13554\n",
      "issue.8 unique values->  47 null values-->  13591\n",
      "issue.9 unique values->  35 null values-->  13603\n",
      "itemid unique values->  13638 null values-->  0\n",
      "judgementdate unique values->  2088 null values-->  0\n",
      "kpdate unique values->  2088 null values-->  0\n",
      "languageisocode unique values->  1 null values-->  0\n",
      "originatingbody unique values->  13 null values-->  0\n",
      "originatingbody_name unique values->  13 null values-->  0\n",
      "originatingbody_type unique values->  1 null values-->  0\n",
      "parties.0 unique values->  12535 null values-->  0\n",
      "parties.1 unique values->  107 null values-->  6\n",
      "parties.2 unique values->  1 null values-->  13637\n",
      "rank unique values->  6484 null values-->  0\n",
      "respondent.0 unique values->  46 null values-->  0\n",
      "respondent.1 unique values->  17 null values-->  13581\n",
      "respondent.2 unique values->  2 null values-->  13635\n",
      "respondent.3 unique values->  1 null values-->  13636\n",
      "respondent.4 unique values->  1 null values-->  13636\n",
      "respondentOrderEng unique values->  46 null values-->  0\n",
      "separateopinion unique values->  2 null values-->  0\n",
      "sharepointid unique values->  13638 null values-->  0\n",
      "typedescription unique values->  5 null values-->  0\n",
      "article=3 unique values->  2 null values-->  0\n",
      "article=6 unique values->  2 null values-->  0\n",
      "article=P1 unique values->  2 null values-->  0\n",
      "article=5 unique values->  2 null values-->  0\n",
      "article=8 unique values->  2 null values-->  0\n",
      "article=13 unique values->  2 null values-->  0\n",
      "article=10 unique values->  2 null values-->  0\n",
      "article=2 unique values->  2 null values-->  0\n",
      "article=34 unique values->  2 null values-->  0\n",
      "article=41 unique values->  2 null values-->  0\n",
      "article=38 unique values->  2 null values-->  0\n",
      "article=35 unique values->  2 null values-->  0\n",
      "article=4 unique values->  2 null values-->  0\n",
      "article=29 unique values->  2 null values-->  0\n",
      "article=14 unique values->  2 null values-->  0\n",
      "article=P12 unique values->  2 null values-->  0\n",
      "article=9 unique values->  2 null values-->  0\n",
      "article=1 unique values->  2 null values-->  0\n",
      "article=11 unique values->  2 null values-->  0\n",
      "article=46 unique values->  2 null values-->  0\n",
      "article=P4 unique values->  2 null values-->  0\n",
      "article=17 unique values->  2 null values-->  0\n",
      "article=18 unique values->  2 null values-->  0\n",
      "article=7 unique values->  2 null values-->  0\n",
      "article= unique values->  2 null values-->  0\n",
      "article=37 unique values->  2 null values-->  0\n",
      "article=P7 unique values->  2 null values-->  0\n",
      "article=57 unique values->  2 null values-->  0\n",
      "article=26 unique values->  2 null values-->  0\n",
      "article=27 unique values->  2 null values-->  0\n",
      "article=36 unique values->  2 null values-->  0\n",
      "article=30 unique values->  2 null values-->  0\n",
      "article=12 unique values->  2 null values-->  0\n",
      "article=56 unique values->  2 null values-->  0\n",
      "article=39 unique values->  2 null values-->  0\n",
      "article=15 unique values->  2 null values-->  0\n",
      "article=25 unique values->  2 null values-->  0\n",
      "article=P6 unique values->  2 null values-->  0\n",
      "article=19 unique values->  2 null values-->  0\n",
      "article=32 unique values->  2 null values-->  0\n",
      "article=33 unique values->  2 null values-->  0\n",
      "article=53 unique values->  2 null values-->  0\n",
      "article=28 unique values->  2 null values-->  0\n",
      "article=43 unique values->  2 null values-->  0\n",
      "article=52 unique values->  2 null values-->  0\n",
      "article=P13 unique values->  2 null values-->  0\n",
      "article=16 unique values->  2 null values-->  0\n",
      "documentcollectionid=CASELAW unique values->  1 null values-->  0\n",
      "documentcollectionid=JUDGMENTS unique values->  1 null values-->  0\n",
      "documentcollectionid=CHAMBER unique values->  2 null values-->  0\n",
      "documentcollectionid=ENG unique values->  1 null values-->  0\n",
      "documentcollectionid=COMMITTEE unique values->  2 null values-->  0\n",
      "documentcollectionid=GRANDCHAMBER unique values->  2 null values-->  0\n",
      "applicability= unique values->  2 null values-->  0\n",
      "applicability=36 unique values->  2 null values-->  0\n",
      "applicability=43 unique values->  2 null values-->  0\n",
      "applicability=41 unique values->  2 null values-->  0\n",
      "applicability=55 unique values->  2 null values-->  0\n",
      "applicability=3 unique values->  2 null values-->  0\n",
      "applicability=22 unique values->  2 null values-->  0\n",
      "applicability=60 unique values->  2 null values-->  0\n",
      "applicability=58 unique values->  2 null values-->  0\n",
      "applicability=25 unique values->  2 null values-->  0\n",
      "applicability=47 unique values->  2 null values-->  0\n",
      "applicability=12 unique values->  2 null values-->  0\n",
      "applicability=38 unique values->  2 null values-->  0\n",
      "applicability=20 unique values->  2 null values-->  0\n",
      "applicability=18 unique values->  2 null values-->  0\n",
      "applicability=24 unique values->  2 null values-->  0\n",
      "applicability=62 unique values->  2 null values-->  0\n",
      "applicability=21 unique values->  2 null values-->  0\n",
      "applicability=23 unique values->  2 null values-->  0\n",
      "applicability=8 unique values->  2 null values-->  0\n",
      "applicability=26 unique values->  2 null values-->  0\n",
      "applicability=53 unique values->  2 null values-->  0\n",
      "applicability=15 unique values->  2 null values-->  0\n",
      "applicability=48 unique values->  2 null values-->  0\n",
      "applicability=14 unique values->  2 null values-->  0\n",
      "applicability=51 unique values->  2 null values-->  0\n",
      "applicability=13 unique values->  2 null values-->  0\n",
      "applicability=5 unique values->  2 null values-->  0\n",
      "applicability=7 unique values->  2 null values-->  0\n",
      "applicability=50 unique values->  2 null values-->  0\n",
      "applicability=52 unique values->  2 null values-->  0\n",
      "applicability=28 unique values->  2 null values-->  0\n",
      "applicability=29 unique values->  2 null values-->  0\n",
      "applicability=31 unique values->  2 null values-->  0\n",
      "applicability=6 unique values->  2 null values-->  0\n",
      "applicability=81 unique values->  2 null values-->  0\n",
      "applicability=66 unique values->  2 null values-->  0\n",
      "applicability=49 unique values->  2 null values-->  0\n",
      "applicability=33 unique values->  2 null values-->  0\n",
      "applicability=63 unique values->  2 null values-->  0\n",
      "applicability=68 unique values->  2 null values-->  0\n",
      "applicability=46 unique values->  2 null values-->  0\n",
      "applicability=19 unique values->  2 null values-->  0\n",
      "applicability=40 unique values->  2 null values-->  0\n",
      "applicability=17 unique values->  2 null values-->  0\n",
      "applicability=32 unique values->  2 null values-->  0\n",
      "applicability=72 unique values->  2 null values-->  0\n",
      "applicability=34 unique values->  2 null values-->  0\n",
      "applicability=35 unique values->  2 null values-->  0\n",
      "applicability=54 unique values->  2 null values-->  0\n",
      "applicability=27 unique values->  2 null values-->  0\n",
      "applicability=16 unique values->  2 null values-->  0\n",
      "applicability=64 unique values->  2 null values-->  0\n",
      "applicability=57 unique values->  2 null values-->  0\n",
      "applicability=56 unique values->  2 null values-->  0\n",
      "applicability=2 unique values->  2 null values-->  0\n",
      "applicability=4 unique values->  2 null values-->  0\n",
      "applicability=67 unique values->  2 null values-->  0\n",
      "applicability=77 unique values->  2 null values-->  0\n",
      "applicability=71 unique values->  2 null values-->  0\n",
      "applicability=59 unique values->  2 null values-->  0\n",
      "paragraphs=3 unique values->  2 null values-->  0\n",
      "paragraphs=6 unique values->  2 null values-->  0\n",
      "paragraphs=6-1 unique values->  2 null values-->  0\n",
      "paragraphs=6-3-c unique values->  2 null values-->  0\n",
      "paragraphs=P1-3 unique values->  2 null values-->  0\n",
      "paragraphs=5 unique values->  2 null values-->  0\n",
      "paragraphs=5-1 unique values->  2 null values-->  0\n",
      "paragraphs=P1-1 unique values->  2 null values-->  0\n",
      "paragraphs=8 unique values->  2 null values-->  0\n",
      "paragraphs=8-1 unique values->  2 null values-->  0\n",
      "paragraphs=13 unique values->  2 null values-->  0\n",
      "paragraphs=10 unique values->  2 null values-->  0\n",
      "paragraphs=10-2 unique values->  2 null values-->  0\n",
      "paragraphs=10-1 unique values->  2 null values-->  0\n",
      "paragraphs=35-1 unique values->  2 null values-->  0\n",
      "paragraphs=2 unique values->  2 null values-->  0\n",
      "paragraphs=2-1 unique values->  2 null values-->  0\n",
      "paragraphs=34 unique values->  2 null values-->  0\n",
      "paragraphs=41 unique values->  2 null values-->  0\n",
      "paragraphs=38 unique values->  2 null values-->  0\n",
      "paragraphs=35 unique values->  2 null values-->  0\n",
      "paragraphs=8-2 unique values->  2 null values-->  0\n",
      "paragraphs=35-3-a unique values->  2 null values-->  0\n",
      "paragraphs=29-3 unique values->  2 null values-->  0\n",
      "paragraphs=4 unique values->  2 null values-->  0\n",
      "paragraphs=29 unique values->  2 null values-->  0\n",
      "paragraphs=P1-1-1 unique values->  2 null values-->  0\n",
      "paragraphs=5-1-e unique values->  2 null values-->  0\n",
      "paragraphs=6-2 unique values->  2 null values-->  0\n",
      "paragraphs=5-1-c unique values->  2 null values-->  0\n",
      "paragraphs=14 unique values->  2 null values-->  0\n",
      "paragraphs=35-3 unique values->  2 null values-->  0\n",
      "paragraphs=6-3-d unique values->  2 null values-->  0\n",
      "paragraphs=5-1-b unique values->  2 null values-->  0\n",
      "paragraphs=5-5 unique values->  2 null values-->  0\n",
      "paragraphs=P12-1 unique values->  2 null values-->  0\n",
      "paragraphs=11-1 unique values->  2 null values-->  0\n",
      "paragraphs=11-2 unique values->  2 null values-->  0\n",
      "paragraphs=9 unique values->  2 null values-->  0\n",
      "paragraphs=9-1 unique values->  2 null values-->  0\n",
      "paragraphs=1 unique values->  2 null values-->  0\n",
      "paragraphs=11 unique values->  2 null values-->  0\n",
      "paragraphs=6-3 unique values->  2 null values-->  0\n",
      "paragraphs=5-3 unique values->  2 null values-->  0\n",
      "paragraphs=5-4 unique values->  2 null values-->  0\n",
      "paragraphs=46 unique values->  2 null values-->  0\n",
      "paragraphs=46-2 unique values->  2 null values-->  0\n",
      "paragraphs=5-1-a unique values->  2 null values-->  0\n",
      "paragraphs=P4-2 unique values->  2 null values-->  0\n",
      "paragraphs=P4-2-2 unique values->  2 null values-->  0\n",
      "paragraphs=17 unique values->  2 null values-->  0\n",
      "paragraphs=18 unique values->  2 null values-->  0\n",
      "paragraphs=7 unique values->  2 null values-->  0\n",
      "paragraphs=7-1 unique values->  2 null values-->  0\n",
      "paragraphs= unique values->  2 null values-->  0\n",
      "paragraphs=4-3-d unique values->  2 null values-->  0\n",
      "paragraphs=4-2 unique values->  2 null values-->  0\n",
      "paragraphs=6-3-e unique values->  2 null values-->  0\n",
      "paragraphs=9-2 unique values->  2 null values-->  0\n",
      "paragraphs=P1-1-2 unique values->  2 null values-->  0\n",
      "paragraphs=P4-2-1 unique values->  2 null values-->  0\n",
      "paragraphs=37-1-c unique values->  2 null values-->  0\n",
      "paragraphs=37 unique values->  2 null values-->  0\n",
      "paragraphs=P7-4 unique values->  2 null values-->  0\n",
      "paragraphs=4-1 unique values->  2 null values-->  0\n",
      "paragraphs=57 unique values->  2 null values-->  0\n",
      "paragraphs=6-3-b unique values->  2 null values-->  0\n",
      "paragraphs=35-3-b unique values->  2 null values-->  0\n",
      "paragraphs=5-1-f unique values->  2 null values-->  0\n",
      "paragraphs=35-4 unique values->  2 null values-->  0\n",
      "paragraphs=P4-2-3 unique values->  2 null values-->  0\n",
      "paragraphs=2-2 unique values->  2 null values-->  0\n",
      "paragraphs=26 unique values->  2 null values-->  0\n",
      "paragraphs=27-2 unique values->  2 null values-->  0\n",
      "paragraphs=27 unique values->  2 null values-->  0\n",
      "paragraphs=36 unique values->  2 null values-->  0\n",
      "paragraphs=36-1 unique values->  2 null values-->  0\n",
      "paragraphs=37-1 unique values->  2 null values-->  0\n",
      "paragraphs=P7-2 unique values->  2 null values-->  0\n",
      "paragraphs=35-2 unique values->  2 null values-->  0\n",
      "paragraphs=5-1-d unique values->  2 null values-->  0\n",
      "paragraphs=6-3-a unique values->  2 null values-->  0\n",
      "paragraphs=30 unique values->  2 null values-->  0\n",
      "paragraphs=46-1 unique values->  2 null values-->  0\n",
      "paragraphs=12 unique values->  2 null values-->  0\n",
      "paragraphs=P7-1 unique values->  2 null values-->  0\n",
      "paragraphs=P7-1-1 unique values->  2 null values-->  0\n",
      "paragraphs=36-2 unique values->  2 null values-->  0\n",
      "paragraphs=5-2 unique values->  2 null values-->  0\n",
      "paragraphs=P1-2 unique values->  2 null values-->  0\n",
      "paragraphs=P1-4 unique values->  2 null values-->  0\n",
      "paragraphs=56-3 unique values->  2 null values-->  0\n",
      "paragraphs=56 unique values->  2 null values-->  0\n",
      "paragraphs=56-1 unique values->  2 null values-->  0\n",
      "paragraphs=P7-1-2 unique values->  2 null values-->  0\n",
      "paragraphs=38-1-a unique values->  2 null values-->  0\n",
      "paragraphs=37-1-b unique values->  2 null values-->  0\n",
      "paragraphs=39 unique values->  2 null values-->  0\n",
      "paragraphs=15-1 unique values->  2 null values-->  0\n",
      "paragraphs=15 unique values->  2 null values-->  0\n",
      "paragraphs=7-2 unique values->  2 null values-->  0\n",
      "paragraphs=P4-4 unique values->  2 null values-->  0\n",
      "paragraphs=15-3 unique values->  2 null values-->  0\n",
      "paragraphs=25-1 unique values->  2 null values-->  0\n",
      "paragraphs=25 unique values->  2 null values-->  0\n",
      "paragraphs=37-1-a unique values->  2 null values-->  0\n",
      "paragraphs=P6-1 unique values->  2 null values-->  0\n",
      "paragraphs=P7-5 unique values->  2 null values-->  0\n",
      "paragraphs=19 unique values->  2 null values-->  0\n",
      "paragraphs=32 unique values->  2 null values-->  0\n",
      "paragraphs=P7-3 unique values->  2 null values-->  0\n",
      "paragraphs=33 unique values->  2 null values-->  0\n",
      "paragraphs=28-1-a unique values->  2 null values-->  0\n",
      "paragraphs=53 unique values->  2 null values-->  0\n",
      "paragraphs=28 unique values->  2 null values-->  0\n",
      "paragraphs=35-2-b unique values->  2 null values-->  0\n",
      "paragraphs=43 unique values->  2 null values-->  0\n",
      "paragraphs=4-3-b unique values->  2 null values-->  0\n",
      "paragraphs=4-3-a unique values->  2 null values-->  0\n",
      "paragraphs=4-3 unique values->  2 null values-->  0\n",
      "paragraphs=28-3 unique values->  2 null values-->  0\n",
      "paragraphs=52 unique values->  2 null values-->  0\n",
      "paragraphs=P13-1 unique values->  2 null values-->  0\n",
      "paragraphs=P7-4-1 unique values->  2 null values-->  0\n",
      "paragraphs=16 unique values->  2 null values-->  0\n",
      "paragraphs=P4-3 unique values->  2 null values-->  0\n",
      "paragraphs=27-1-b unique values->  2 null values-->  0\n",
      "paragraphs=29-1 unique values->  2 null values-->  0\n",
      "paragraphs=32-2 unique values->  2 null values-->  0\n",
      "paragraphs=28-1 unique values->  2 null values-->  0\n",
      "paragraphs=P6-2 unique values->  2 null values-->  0\n",
      "paragraphs=46-4 unique values->  2 null values-->  0\n",
      "ccl_article=1 unique values->  3 null values-->  0\n",
      "ccl_article=10 unique values->  3 null values-->  0\n",
      "ccl_article=11 unique values->  3 null values-->  0\n",
      "ccl_article=12 unique values->  3 null values-->  0\n",
      "ccl_article=13 unique values->  3 null values-->  0\n",
      "ccl_article=14 unique values->  3 null values-->  0\n",
      "ccl_article=17 unique values->  2 null values-->  0\n",
      "ccl_article=18 unique values->  2 null values-->  0\n",
      "ccl_article=2 unique values->  3 null values-->  0\n",
      "ccl_article=25 unique values->  3 null values-->  0\n",
      "ccl_article=3 unique values->  3 null values-->  0\n",
      "ccl_article=34 unique values->  3 null values-->  0\n",
      "ccl_article=38 unique values->  3 null values-->  0\n",
      "ccl_article=4 unique values->  3 null values-->  0\n",
      "ccl_article=46 unique values->  2 null values-->  0\n",
      "ccl_article=5 unique values->  3 null values-->  0\n",
      "ccl_article=6 unique values->  3 null values-->  0\n",
      "ccl_article=7 unique values->  3 null values-->  0\n",
      "ccl_article=8 unique values->  3 null values-->  0\n",
      "ccl_article=9 unique values->  3 null values-->  0\n",
      "ccl_article=p1 unique values->  3 null values-->  0\n",
      "ccl_article=p12 unique values->  2 null values-->  0\n",
      "ccl_article=p4 unique values->  3 null values-->  0\n",
      "ccl_article=p6 unique values->  2 null values-->  0\n",
      "ccl_article=p7 unique values->  3 null values-->  0\n",
      "importance unique values->  5 null values-->  0\n",
      "label unique values->  2 null values-->  0\n"
     ]
    }
   ],
   "source": [
    "for col in combined.columns:\n",
    "    print(col,'unique values-> ',combined[col].nunique(), 'null values--> ', combined[col].isnull().sum())\n",
    "\n",
    "#     a lot of features have multiple empty values and single constant value."
   ]
  },
  {
   "cell_type": "code",
   "execution_count": 6,
   "metadata": {
    "execution": {
     "iopub.execute_input": "2021-01-24T06:31:48.720938Z",
     "iopub.status.busy": "2021-01-24T06:31:48.700207Z",
     "iopub.status.idle": "2021-01-24T06:31:48.728592Z",
     "shell.execute_reply": "2021-01-24T06:31:48.728077Z"
    },
    "papermill": {
     "duration": 0.055483,
     "end_time": "2021-01-24T06:31:48.728692",
     "exception": false,
     "start_time": "2021-01-24T06:31:48.673209",
     "status": "completed"
    },
    "tags": []
   },
   "outputs": [],
   "source": [
    "def combine_issues(df):\n",
    "#     combining all the issues columns to form one issue column\n",
    "    issue_columns = [\n",
    "        'issue.0', 'issue.1', 'issue.2', 'issue.3', 'issue.4', 'issue.5', 'issue.6', 'issue.7', 'issue.8', \n",
    "        'issue.9', 'issue.10', 'issue.11', 'issue.12', 'issue.13', 'issue.14', 'issue.15', 'issue.16', \n",
    "        'issue.17', 'issue.18', 'issue.19', 'issue.20', 'issue.21', 'issue.22', 'issue.23']\n",
    "    issue_df = combined[issue_columns]\n",
    "    issue_df.fillna('',inplace=True)\n",
    "    issue_df['issues'] = issue_df[issue_columns].apply(lambda x: '. '.join([val for val in x if val != '']), axis=1)\n",
    "    df.drop(issue_columns, axis=1, inplace=True)\n",
    "    issue_df.drop(issue_columns, axis=1, inplace=True)\n",
    "    df = pd.concat([df, issue_df], axis=1)\n",
    "    return df\n",
    "\n",
    "\n",
    "def lowercase_texts(df):\n",
    "    print('converting all text columns in lowercase.',)\n",
    "    for col in combined.columns:\n",
    "        if combined[col].dtype=='object':\n",
    "            combined[col] = combined[col].str.lower()\n",
    "    return df\n",
    "\n",
    "\n",
    "def universalize_countries(df):\n",
    "#     converting all the countries to single symbolic numerical value.(eg - Albania, albania, abl, ab -> 1)\n",
    "    country_dict_A = df[['respondentOrderEng','country.name']].set_index('country.name').T.to_dict('list')\n",
    "    country_dict_C = df[['respondentOrderEng','respondent.0']].set_index('respondent.0').T.to_dict('list')    \n",
    "    country_dict = {}\n",
    "    for d in (country_dict_A, country_dict_C):#, country_dict_C): #, country_dict_D, country_dict_E, country_dict_F): \n",
    "        country_dict.update(d)\n",
    "        \n",
    "    country_dict = {k: v for k, v in country_dict.items() if pd.notna(k)}\n",
    "    df['respondent.0'] = df['respondent.0'].apply(lambda x: country_dict[x][0])\n",
    "    df['respondent.1'] = df['respondent.1'].apply(lambda x: country_dict[x][0] if pd.notnull(x) else x)\n",
    "    df['respondent.2'] = df['respondent.2'].apply(lambda x: country_dict[x][0] if pd.notnull(x) else x)\n",
    "    df['respondent.3'] = df['respondent.3'].apply(lambda x: country_dict[x][0] if pd.notnull(x) else x)\n",
    "    df['respondent.4'] = df['respondent.4'].apply(lambda x: country_dict[x][0] if pd.notnull(x) else x)\n",
    "    del df['respondentOrderEng']\n",
    "    return df\n",
    "\n",
    "def remove_constant_values(df):\n",
    "#     this function removes redundant constant features.\n",
    "    print('Removing constant columns -> ',)\n",
    "    for col in df.columns:\n",
    "        if df[col].nunique()==1:\n",
    "            print(col,end=', ' )\n",
    "            del df[col]\n",
    "    return df\n",
    "\n",
    "def remove_unwanted_features(df):\n",
    "#     these features dont add any valueable signal to the data.\n",
    "    remove_cols =['parties.0', 'country.alpha2', 'parties.1', 'country.name', 'docname', 'appno', 'ecli', 'kpdate', 'originatingbody_name']\n",
    "    for col in remove_cols:\n",
    "        if col in df.columns:\n",
    "            df.drop(col, axis=1, inplace=True)\n",
    "    return df\n",
    "\n",
    "  \n",
    "def featurize_columns(df):\n",
    "#     making new columns.\n",
    "    df['itemid'] = df['itemid'].apply(lambda x: x[4:7])\n",
    "    df['sharepointid'] = df['sharepointid'].apply(lambda x: str(x)[:3])\n",
    "    df['total_respondents'] = 5- df[['respondent.0','respondent.1','respondent.2','respondent.3','respondent.4']].isna().sum(axis=1)\n",
    "\n",
    "    return df\n",
    "\n",
    "def featurize_date_columns(df):\n",
    "    #     making new columns based on dates.\n",
    "    df['daysbetween_intro_decision'] = (pd.to_datetime(df['decisiondate']) - pd.to_datetime(df['introductiondate'])).dt.days\n",
    "    df['daysbetween_intro_judgement'] = (pd.to_datetime(df['judgementdate']) - pd.to_datetime(df['introductiondate'])).dt.days\n",
    "    df['daysbetween_decision_judgement'] = (pd.to_datetime(df['judgementdate']) - pd.to_datetime(df['decisiondate'])).dt.days\n",
    "    df.drop(['decisiondate','introductiondate','judgementdate'], axis=1, inplace=True)\n",
    "    return df\n",
    "\n",
    "def encoding(df):\n",
    "    df['doctypebranch'] = le.fit_transform(df['doctypebranch'])\n",
    "    df['separateopinion'] = le.fit_transform(df['separateopinion'])\n",
    "    df['typedescription'] = le.fit_transform(df['typedescription'])\n",
    "    return df\n",
    "\n",
    "def fill_missing(df):\n",
    "    for col in df.columns:\n",
    "        if col not in ['label', 'issues']:\n",
    "            df[col].fillna(0,inplace=True)\n",
    "            df[col] = df[col].astype('int')\n",
    "    return df"
   ]
  },
  {
   "cell_type": "code",
   "execution_count": 7,
   "metadata": {
    "execution": {
     "iopub.execute_input": "2021-01-24T06:31:48.787765Z",
     "iopub.status.busy": "2021-01-24T06:31:48.770827Z",
     "iopub.status.idle": "2021-01-24T06:31:48.791946Z",
     "shell.execute_reply": "2021-01-24T06:31:48.791436Z"
    },
    "papermill": {
     "duration": 0.044229,
     "end_time": "2021-01-24T06:31:48.792052",
     "exception": false,
     "start_time": "2021-01-24T06:31:48.747823",
     "status": "completed"
    },
    "tags": []
   },
   "outputs": [
    {
     "data": {
      "text/html": [
       "<div>\n",
       "<style scoped>\n",
       "    .dataframe tbody tr th:only-of-type {\n",
       "        vertical-align: middle;\n",
       "    }\n",
       "\n",
       "    .dataframe tbody tr th {\n",
       "        vertical-align: top;\n",
       "    }\n",
       "\n",
       "    .dataframe thead th {\n",
       "        text-align: right;\n",
       "    }\n",
       "</style>\n",
       "<table border=\"1\" class=\"dataframe\">\n",
       "  <thead>\n",
       "    <tr style=\"text-align: right;\">\n",
       "      <th></th>\n",
       "      <th>appno</th>\n",
       "      <th>application</th>\n",
       "      <th>country.alpha2</th>\n",
       "      <th>country.name</th>\n",
       "      <th>decisiondate</th>\n",
       "      <th>docname</th>\n",
       "      <th>doctypebranch</th>\n",
       "      <th>ecli</th>\n",
       "      <th>introductiondate</th>\n",
       "      <th>issue.0</th>\n",
       "      <th>...</th>\n",
       "      <th>ccl_article=7</th>\n",
       "      <th>ccl_article=8</th>\n",
       "      <th>ccl_article=9</th>\n",
       "      <th>ccl_article=p1</th>\n",
       "      <th>ccl_article=p12</th>\n",
       "      <th>ccl_article=p4</th>\n",
       "      <th>ccl_article=p6</th>\n",
       "      <th>ccl_article=p7</th>\n",
       "      <th>importance</th>\n",
       "      <th>label</th>\n",
       "    </tr>\n",
       "  </thead>\n",
       "  <tbody>\n",
       "    <tr>\n",
       "      <th>0</th>\n",
       "      <td>2052/08</td>\n",
       "      <td>MS WORD</td>\n",
       "      <td>ru</td>\n",
       "      <td>Russian Federation</td>\n",
       "      <td>NaN</td>\n",
       "      <td>CASE OF KOKOSHKINA v. RUSSIA</td>\n",
       "      <td>CHAMBER</td>\n",
       "      <td>ECLI:CE:ECHR:2009:0528JUD000205208</td>\n",
       "      <td>NaN</td>\n",
       "      <td>NaN</td>\n",
       "      <td>...</td>\n",
       "      <td>0</td>\n",
       "      <td>0</td>\n",
       "      <td>0</td>\n",
       "      <td>0</td>\n",
       "      <td>0</td>\n",
       "      <td>0</td>\n",
       "      <td>0</td>\n",
       "      <td>0</td>\n",
       "      <td>4</td>\n",
       "      <td>train</td>\n",
       "    </tr>\n",
       "    <tr>\n",
       "      <th>1</th>\n",
       "      <td>4728/07</td>\n",
       "      <td>MS WORD</td>\n",
       "      <td>tr</td>\n",
       "      <td>Turkey</td>\n",
       "      <td>NaN</td>\n",
       "      <td>CASE OF ÖZCAN v. TURKEY</td>\n",
       "      <td>COMMITTEE</td>\n",
       "      <td>ECLI:CE:ECHR:2018:0710JUD000472807</td>\n",
       "      <td>NaN</td>\n",
       "      <td>NaN</td>\n",
       "      <td>...</td>\n",
       "      <td>0</td>\n",
       "      <td>0</td>\n",
       "      <td>0</td>\n",
       "      <td>0</td>\n",
       "      <td>0</td>\n",
       "      <td>0</td>\n",
       "      <td>0</td>\n",
       "      <td>0</td>\n",
       "      <td>4</td>\n",
       "      <td>train</td>\n",
       "    </tr>\n",
       "    <tr>\n",
       "      <th>2</th>\n",
       "      <td>44135/06</td>\n",
       "      <td>MS WORD</td>\n",
       "      <td>si</td>\n",
       "      <td>Slovenia</td>\n",
       "      <td>NaN</td>\n",
       "      <td>CASE OF DANIJEL PEČNIK v. SLOVENIA</td>\n",
       "      <td>CHAMBER</td>\n",
       "      <td>ECLI:CE:ECHR:2012:1018JUD004413506</td>\n",
       "      <td>NaN</td>\n",
       "      <td>NaN</td>\n",
       "      <td>...</td>\n",
       "      <td>0</td>\n",
       "      <td>0</td>\n",
       "      <td>0</td>\n",
       "      <td>0</td>\n",
       "      <td>0</td>\n",
       "      <td>0</td>\n",
       "      <td>0</td>\n",
       "      <td>0</td>\n",
       "      <td>4</td>\n",
       "      <td>train</td>\n",
       "    </tr>\n",
       "    <tr>\n",
       "      <th>3</th>\n",
       "      <td>2607/08</td>\n",
       "      <td>MS WORD</td>\n",
       "      <td>ch</td>\n",
       "      <td>Switzerland</td>\n",
       "      <td>NaN</td>\n",
       "      <td>CASE OF PALANCI v. SWITZERLAND</td>\n",
       "      <td>CHAMBER</td>\n",
       "      <td>ECLI:CE:ECHR:2014:0325JUD000260708</td>\n",
       "      <td>NaN</td>\n",
       "      <td>NaN</td>\n",
       "      <td>...</td>\n",
       "      <td>0</td>\n",
       "      <td>-1</td>\n",
       "      <td>0</td>\n",
       "      <td>0</td>\n",
       "      <td>0</td>\n",
       "      <td>0</td>\n",
       "      <td>0</td>\n",
       "      <td>0</td>\n",
       "      <td>4</td>\n",
       "      <td>train</td>\n",
       "    </tr>\n",
       "    <tr>\n",
       "      <th>4</th>\n",
       "      <td>27001/06</td>\n",
       "      <td>MS WORD</td>\n",
       "      <td>ru</td>\n",
       "      <td>Russian Federation</td>\n",
       "      <td>NaN</td>\n",
       "      <td>CASE OF AMANAT ILYASOVA AND OTHERS v. RUSSIA</td>\n",
       "      <td>CHAMBER</td>\n",
       "      <td>ECLI:CE:ECHR:2009:1001JUD002700106</td>\n",
       "      <td>NaN</td>\n",
       "      <td>NaN</td>\n",
       "      <td>...</td>\n",
       "      <td>0</td>\n",
       "      <td>0</td>\n",
       "      <td>0</td>\n",
       "      <td>0</td>\n",
       "      <td>0</td>\n",
       "      <td>0</td>\n",
       "      <td>0</td>\n",
       "      <td>0</td>\n",
       "      <td>4</td>\n",
       "      <td>train</td>\n",
       "    </tr>\n",
       "  </tbody>\n",
       "</table>\n",
       "<p>5 rows × 329 columns</p>\n",
       "</div>"
      ],
      "text/plain": [
       "      appno application country.alpha2        country.name decisiondate  \\\n",
       "0   2052/08     MS WORD             ru  Russian Federation          NaN   \n",
       "1   4728/07     MS WORD             tr              Turkey          NaN   \n",
       "2  44135/06     MS WORD             si            Slovenia          NaN   \n",
       "3   2607/08     MS WORD             ch         Switzerland          NaN   \n",
       "4  27001/06     MS WORD             ru  Russian Federation          NaN   \n",
       "\n",
       "                                        docname doctypebranch  \\\n",
       "0                  CASE OF KOKOSHKINA v. RUSSIA       CHAMBER   \n",
       "1                       CASE OF ÖZCAN v. TURKEY     COMMITTEE   \n",
       "2            CASE OF DANIJEL PEČNIK v. SLOVENIA       CHAMBER   \n",
       "3                CASE OF PALANCI v. SWITZERLAND       CHAMBER   \n",
       "4  CASE OF AMANAT ILYASOVA AND OTHERS v. RUSSIA       CHAMBER   \n",
       "\n",
       "                                 ecli introductiondate issue.0  ...  \\\n",
       "0  ECLI:CE:ECHR:2009:0528JUD000205208              NaN     NaN  ...   \n",
       "1  ECLI:CE:ECHR:2018:0710JUD000472807              NaN     NaN  ...   \n",
       "2  ECLI:CE:ECHR:2012:1018JUD004413506              NaN     NaN  ...   \n",
       "3  ECLI:CE:ECHR:2014:0325JUD000260708              NaN     NaN  ...   \n",
       "4  ECLI:CE:ECHR:2009:1001JUD002700106              NaN     NaN  ...   \n",
       "\n",
       "  ccl_article=7 ccl_article=8 ccl_article=9 ccl_article=p1 ccl_article=p12  \\\n",
       "0             0             0             0              0               0   \n",
       "1             0             0             0              0               0   \n",
       "2             0             0             0              0               0   \n",
       "3             0            -1             0              0               0   \n",
       "4             0             0             0              0               0   \n",
       "\n",
       "  ccl_article=p4 ccl_article=p6 ccl_article=p7 importance  label  \n",
       "0              0              0              0          4  train  \n",
       "1              0              0              0          4  train  \n",
       "2              0              0              0          4  train  \n",
       "3              0              0              0          4  train  \n",
       "4              0              0              0          4  train  \n",
       "\n",
       "[5 rows x 329 columns]"
      ]
     },
     "execution_count": 7,
     "metadata": {},
     "output_type": "execute_result"
    }
   ],
   "source": [
    "combined.head()"
   ]
  },
  {
   "cell_type": "code",
   "execution_count": 8,
   "metadata": {
    "execution": {
     "iopub.execute_input": "2021-01-24T06:31:48.837045Z",
     "iopub.status.busy": "2021-01-24T06:31:48.836246Z",
     "iopub.status.idle": "2021-01-24T06:31:48.839566Z",
     "shell.execute_reply": "2021-01-24T06:31:48.839079Z"
    },
    "papermill": {
     "duration": 0.027173,
     "end_time": "2021-01-24T06:31:48.839693",
     "exception": false,
     "start_time": "2021-01-24T06:31:48.812520",
     "status": "completed"
    },
    "tags": []
   },
   "outputs": [],
   "source": [
    "# pd.set_option('display.max_colwidth', -1)\n",
    "# combined[['issues']]"
   ]
  },
  {
   "cell_type": "code",
   "execution_count": 9,
   "metadata": {
    "execution": {
     "iopub.execute_input": "2021-01-24T06:31:48.886976Z",
     "iopub.status.busy": "2021-01-24T06:31:48.885821Z",
     "iopub.status.idle": "2021-01-24T06:31:50.624460Z",
     "shell.execute_reply": "2021-01-24T06:31:50.623924Z"
    },
    "papermill": {
     "duration": 1.764456,
     "end_time": "2021-01-24T06:31:50.624570",
     "exception": false,
     "start_time": "2021-01-24T06:31:48.860114",
     "status": "completed"
    },
    "tags": []
   },
   "outputs": [
    {
     "name": "stderr",
     "output_type": "stream",
     "text": [
      "/opt/conda/lib/python3.7/site-packages/pandas/core/frame.py:4327: SettingWithCopyWarning: \n",
      "A value is trying to be set on a copy of a slice from a DataFrame\n",
      "\n",
      "See the caveats in the documentation: https://pandas.pydata.org/pandas-docs/stable/user_guide/indexing.html#returning-a-view-versus-a-copy\n",
      "  downcast=downcast,\n",
      "/opt/conda/lib/python3.7/site-packages/ipykernel_launcher.py:9: SettingWithCopyWarning: \n",
      "A value is trying to be set on a copy of a slice from a DataFrame.\n",
      "Try using .loc[row_indexer,col_indexer] = value instead\n",
      "\n",
      "See the caveats in the documentation: https://pandas.pydata.org/pandas-docs/stable/user_guide/indexing.html#returning-a-view-versus-a-copy\n",
      "  if __name__ == '__main__':\n",
      "/opt/conda/lib/python3.7/site-packages/pandas/core/frame.py:4174: SettingWithCopyWarning: \n",
      "A value is trying to be set on a copy of a slice from a DataFrame\n",
      "\n",
      "See the caveats in the documentation: https://pandas.pydata.org/pandas-docs/stable/user_guide/indexing.html#returning-a-view-versus-a-copy\n",
      "  errors=errors,\n"
     ]
    },
    {
     "name": "stdout",
     "output_type": "stream",
     "text": [
      "combined shape after combining issues -> (13638, 306)\n",
      "converting all text columns in lowercase.\n"
     ]
    },
    {
     "name": "stderr",
     "output_type": "stream",
     "text": [
      "/opt/conda/lib/python3.7/site-packages/ipykernel_launcher.py:26: UserWarning: DataFrame columns are not unique, some columns will be omitted.\n",
      "/opt/conda/lib/python3.7/site-packages/ipykernel_launcher.py:27: UserWarning: DataFrame columns are not unique, some columns will be omitted.\n"
     ]
    },
    {
     "name": "stdout",
     "output_type": "stream",
     "text": [
      "Removing constant columns -> \n",
      "application, issue.24, issue.25, issue.26, languageisocode, originatingbody_type, parties.2, respondent.3, respondent.4, documentcollectionid=CASELAW, documentcollectionid=JUDGMENTS, documentcollectionid=ENG, \n",
      "combined shape after removing constant features-> (13638, 294)\n"
     ]
    }
   ],
   "source": [
    "combined = combine_issues(combined)\n",
    "print('combined shape after combining issues ->', combined.shape)\n",
    "combined = lowercase_texts(combined)\n",
    "combined = universalize_countries(combined)\n",
    "combined = featurize_columns(combined)\n",
    "combined = featurize_date_columns(combined)\n",
    "combined = encoding(combined)\n",
    "combined = remove_constant_values(combined)\n",
    "print('\\ncombined shape after removing constant features->', combined.shape)\n",
    "combined = remove_unwanted_features(combined)\n",
    "combined = fill_missing(combined)"
   ]
  },
  {
   "cell_type": "code",
   "execution_count": 10,
   "metadata": {
    "execution": {
     "iopub.execute_input": "2021-01-24T06:31:50.687534Z",
     "iopub.status.busy": "2021-01-24T06:31:50.680489Z",
     "iopub.status.idle": "2021-01-24T06:31:50.691959Z",
     "shell.execute_reply": "2021-01-24T06:31:50.691414Z"
    },
    "papermill": {
     "duration": 0.045358,
     "end_time": "2021-01-24T06:31:50.692053",
     "exception": false,
     "start_time": "2021-01-24T06:31:50.646695",
     "status": "completed"
    },
    "tags": []
   },
   "outputs": [
    {
     "data": {
      "text/html": [
       "<div>\n",
       "<style scoped>\n",
       "    .dataframe tbody tr th:only-of-type {\n",
       "        vertical-align: middle;\n",
       "    }\n",
       "\n",
       "    .dataframe tbody tr th {\n",
       "        vertical-align: top;\n",
       "    }\n",
       "\n",
       "    .dataframe thead th {\n",
       "        text-align: right;\n",
       "    }\n",
       "</style>\n",
       "<table border=\"1\" class=\"dataframe\">\n",
       "  <thead>\n",
       "    <tr style=\"text-align: right;\">\n",
       "      <th></th>\n",
       "      <th>doctypebranch</th>\n",
       "      <th>itemid</th>\n",
       "      <th>originatingbody</th>\n",
       "      <th>rank</th>\n",
       "      <th>respondent.0</th>\n",
       "      <th>respondent.1</th>\n",
       "      <th>respondent.2</th>\n",
       "      <th>separateopinion</th>\n",
       "      <th>sharepointid</th>\n",
       "      <th>typedescription</th>\n",
       "      <th>...</th>\n",
       "      <th>ccl_article=p4</th>\n",
       "      <th>ccl_article=p6</th>\n",
       "      <th>ccl_article=p7</th>\n",
       "      <th>importance</th>\n",
       "      <th>label</th>\n",
       "      <th>issues</th>\n",
       "      <th>total_respondents</th>\n",
       "      <th>daysbetween_intro_decision</th>\n",
       "      <th>daysbetween_intro_judgement</th>\n",
       "      <th>daysbetween_decision_judgement</th>\n",
       "    </tr>\n",
       "  </thead>\n",
       "  <tbody>\n",
       "    <tr>\n",
       "      <th>0</th>\n",
       "      <td>0</td>\n",
       "      <td>926</td>\n",
       "      <td>4</td>\n",
       "      <td>685</td>\n",
       "      <td>38</td>\n",
       "      <td>0</td>\n",
       "      <td>0</td>\n",
       "      <td>0</td>\n",
       "      <td>349</td>\n",
       "      <td>2</td>\n",
       "      <td>...</td>\n",
       "      <td>0</td>\n",
       "      <td>0</td>\n",
       "      <td>0</td>\n",
       "      <td>4</td>\n",
       "      <td>train</td>\n",
       "      <td></td>\n",
       "      <td>1</td>\n",
       "      <td>0</td>\n",
       "      <td>0</td>\n",
       "      <td>0</td>\n",
       "    </tr>\n",
       "    <tr>\n",
       "      <th>1</th>\n",
       "      <td>1</td>\n",
       "      <td>184</td>\n",
       "      <td>26</td>\n",
       "      <td>2641</td>\n",
       "      <td>47</td>\n",
       "      <td>0</td>\n",
       "      <td>0</td>\n",
       "      <td>0</td>\n",
       "      <td>476</td>\n",
       "      <td>2</td>\n",
       "      <td>...</td>\n",
       "      <td>0</td>\n",
       "      <td>0</td>\n",
       "      <td>0</td>\n",
       "      <td>4</td>\n",
       "      <td>train</td>\n",
       "      <td></td>\n",
       "      <td>1</td>\n",
       "      <td>0</td>\n",
       "      <td>0</td>\n",
       "      <td>0</td>\n",
       "    </tr>\n",
       "    <tr>\n",
       "      <th>2</th>\n",
       "      <td>0</td>\n",
       "      <td>113</td>\n",
       "      <td>23</td>\n",
       "      <td>942</td>\n",
       "      <td>43</td>\n",
       "      <td>0</td>\n",
       "      <td>0</td>\n",
       "      <td>1</td>\n",
       "      <td>373</td>\n",
       "      <td>2</td>\n",
       "      <td>...</td>\n",
       "      <td>0</td>\n",
       "      <td>0</td>\n",
       "      <td>0</td>\n",
       "      <td>4</td>\n",
       "      <td>train</td>\n",
       "      <td></td>\n",
       "      <td>1</td>\n",
       "      <td>0</td>\n",
       "      <td>0</td>\n",
       "      <td>0</td>\n",
       "    </tr>\n",
       "    <tr>\n",
       "      <th>3</th>\n",
       "      <td>0</td>\n",
       "      <td>141</td>\n",
       "      <td>5</td>\n",
       "      <td>1121</td>\n",
       "      <td>46</td>\n",
       "      <td>0</td>\n",
       "      <td>0</td>\n",
       "      <td>1</td>\n",
       "      <td>392</td>\n",
       "      <td>2</td>\n",
       "      <td>...</td>\n",
       "      <td>0</td>\n",
       "      <td>0</td>\n",
       "      <td>0</td>\n",
       "      <td>4</td>\n",
       "      <td>train</td>\n",
       "      <td></td>\n",
       "      <td>1</td>\n",
       "      <td>0</td>\n",
       "      <td>0</td>\n",
       "      <td>0</td>\n",
       "    </tr>\n",
       "    <tr>\n",
       "      <th>4</th>\n",
       "      <td>0</td>\n",
       "      <td>945</td>\n",
       "      <td>4</td>\n",
       "      <td>704</td>\n",
       "      <td>38</td>\n",
       "      <td>0</td>\n",
       "      <td>0</td>\n",
       "      <td>0</td>\n",
       "      <td>423</td>\n",
       "      <td>2</td>\n",
       "      <td>...</td>\n",
       "      <td>0</td>\n",
       "      <td>0</td>\n",
       "      <td>0</td>\n",
       "      <td>4</td>\n",
       "      <td>train</td>\n",
       "      <td></td>\n",
       "      <td>1</td>\n",
       "      <td>0</td>\n",
       "      <td>0</td>\n",
       "      <td>0</td>\n",
       "    </tr>\n",
       "  </tbody>\n",
       "</table>\n",
       "<p>5 rows × 285 columns</p>\n",
       "</div>"
      ],
      "text/plain": [
       "   doctypebranch  itemid  originatingbody  rank  respondent.0  respondent.1  \\\n",
       "0              0     926                4   685            38             0   \n",
       "1              1     184               26  2641            47             0   \n",
       "2              0     113               23   942            43             0   \n",
       "3              0     141                5  1121            46             0   \n",
       "4              0     945                4   704            38             0   \n",
       "\n",
       "   respondent.2  separateopinion  sharepointid  typedescription  ...  \\\n",
       "0             0                0           349                2  ...   \n",
       "1             0                0           476                2  ...   \n",
       "2             0                1           373                2  ...   \n",
       "3             0                1           392                2  ...   \n",
       "4             0                0           423                2  ...   \n",
       "\n",
       "   ccl_article=p4  ccl_article=p6  ccl_article=p7  importance  label  issues  \\\n",
       "0               0               0               0           4  train           \n",
       "1               0               0               0           4  train           \n",
       "2               0               0               0           4  train           \n",
       "3               0               0               0           4  train           \n",
       "4               0               0               0           4  train           \n",
       "\n",
       "   total_respondents  daysbetween_intro_decision  daysbetween_intro_judgement  \\\n",
       "0                  1                           0                            0   \n",
       "1                  1                           0                            0   \n",
       "2                  1                           0                            0   \n",
       "3                  1                           0                            0   \n",
       "4                  1                           0                            0   \n",
       "\n",
       "   daysbetween_decision_judgement  \n",
       "0                               0  \n",
       "1                               0  \n",
       "2                               0  \n",
       "3                               0  \n",
       "4                               0  \n",
       "\n",
       "[5 rows x 285 columns]"
      ]
     },
     "execution_count": 10,
     "metadata": {},
     "output_type": "execute_result"
    }
   ],
   "source": [
    "combined.head()"
   ]
  },
  {
   "cell_type": "code",
   "execution_count": 11,
   "metadata": {
    "execution": {
     "iopub.execute_input": "2021-01-24T06:31:50.739821Z",
     "iopub.status.busy": "2021-01-24T06:31:50.739085Z",
     "iopub.status.idle": "2021-01-24T06:31:51.746706Z",
     "shell.execute_reply": "2021-01-24T06:31:51.745927Z"
    },
    "papermill": {
     "duration": 1.033007,
     "end_time": "2021-01-24T06:31:51.746820",
     "exception": false,
     "start_time": "2021-01-24T06:31:50.713813",
     "status": "completed"
    },
    "scrolled": true,
    "tags": []
   },
   "outputs": [],
   "source": [
    "combined.to_csv('combined_inbetween.csv',index=False)\n"
   ]
  },
  {
   "cell_type": "code",
   "execution_count": 12,
   "metadata": {
    "execution": {
     "iopub.execute_input": "2021-01-24T06:31:51.796401Z",
     "iopub.status.busy": "2021-01-24T06:31:51.795560Z",
     "iopub.status.idle": "2021-01-24T06:31:51.798369Z",
     "shell.execute_reply": "2021-01-24T06:31:51.797913Z"
    },
    "papermill": {
     "duration": 0.02855,
     "end_time": "2021-01-24T06:31:51.798462",
     "exception": false,
     "start_time": "2021-01-24T06:31:51.769912",
     "status": "completed"
    },
    "scrolled": false,
    "tags": []
   },
   "outputs": [],
   "source": [
    "# for col in combined.columns:\n",
    "#     print(col,'unique values-> ',combined[col].nunique(), 'null values--> ', combined[col].isnull().sum(), 'type-> ',combined[col].dtype)"
   ]
  },
  {
   "cell_type": "code",
   "execution_count": 13,
   "metadata": {
    "execution": {
     "iopub.execute_input": "2021-01-24T06:31:51.847012Z",
     "iopub.status.busy": "2021-01-24T06:31:51.846495Z",
     "iopub.status.idle": "2021-01-24T06:31:51.849447Z",
     "shell.execute_reply": "2021-01-24T06:31:51.849845Z"
    },
    "papermill": {
     "duration": 0.028845,
     "end_time": "2021-01-24T06:31:51.849956",
     "exception": false,
     "start_time": "2021-01-24T06:31:51.821111",
     "status": "completed"
    },
    "tags": []
   },
   "outputs": [],
   "source": [
    "# before making the model, delete label column, delete issues column.\n",
    "# separate test and train, delete output of test.\n",
    "# explore blackstone - https://spacy.io/universe/project/blackstone for making new features from issues.\n",
    "# test filling missing values using different stratergies."
   ]
  },
  {
   "cell_type": "code",
   "execution_count": 14,
   "metadata": {
    "execution": {
     "iopub.execute_input": "2021-01-24T06:31:51.900019Z",
     "iopub.status.busy": "2021-01-24T06:31:51.899486Z",
     "iopub.status.idle": "2021-01-24T06:31:52.046763Z",
     "shell.execute_reply": "2021-01-24T06:31:52.045871Z"
    },
    "papermill": {
     "duration": 0.174245,
     "end_time": "2021-01-24T06:31:52.046931",
     "exception": false,
     "start_time": "2021-01-24T06:31:51.872686",
     "status": "completed"
    },
    "tags": []
   },
   "outputs": [
    {
     "data": {
      "text/html": [
       "<style type='text/css'>\n",
       ".datatable table.frame { margin-bottom: 0; }\n",
       ".datatable table.frame thead { border-bottom: none; }\n",
       ".datatable table.frame tr.coltypes td {  color: #FFFFFF;  line-height: 6px;  padding: 0 0.5em;}\n",
       ".datatable .bool    { background: #DDDD99; }\n",
       ".datatable .object  { background: #565656; }\n",
       ".datatable .int     { background: #5D9E5D; }\n",
       ".datatable .float   { background: #4040CC; }\n",
       ".datatable .str     { background: #CC4040; }\n",
       ".datatable .row_index {  background: var(--jp-border-color3);  border-right: 1px solid var(--jp-border-color0);  color: var(--jp-ui-font-color3);  font-size: 9px;}\n",
       ".datatable .frame tr.coltypes .row_index {  background: var(--jp-border-color0);}\n",
       ".datatable th:nth-child(2) { padding-left: 12px; }\n",
       ".datatable .hellipsis {  color: var(--jp-cell-editor-border-color);}\n",
       ".datatable .vellipsis {  background: var(--jp-layout-color0);  color: var(--jp-cell-editor-border-color);}\n",
       ".datatable .na {  color: var(--jp-cell-editor-border-color);  font-size: 80%;}\n",
       ".datatable .footer { font-size: 9px; }\n",
       ".datatable .frame_dimensions {  background: var(--jp-border-color3);  border-top: 1px solid var(--jp-border-color0);  color: var(--jp-ui-font-color3);  display: inline-block;  opacity: 0.6;  padding: 1px 10px 1px 5px;}\n",
       "</style>\n"
      ],
      "text/plain": [
       "<IPython.core.display.HTML object>"
      ]
     },
     "metadata": {},
     "output_type": "display_data"
    }
   ],
   "source": [
    "from lightgbm import LGBMClassifier\n",
    "from sklearn.model_selection import GridSearchCV \n",
    "from sklearn.model_selection import train_test_split\n",
    "from sklearn.model_selection import cross_val_predict\n",
    "from sklearn.metrics import accuracy_score"
   ]
  },
  {
   "cell_type": "code",
   "execution_count": 15,
   "metadata": {
    "execution": {
     "iopub.execute_input": "2021-01-24T06:31:52.115484Z",
     "iopub.status.busy": "2021-01-24T06:31:52.114852Z",
     "iopub.status.idle": "2021-01-24T06:31:52.120022Z",
     "shell.execute_reply": "2021-01-24T06:31:52.120700Z"
    },
    "papermill": {
     "duration": 0.041543,
     "end_time": "2021-01-24T06:31:52.120886",
     "exception": false,
     "start_time": "2021-01-24T06:31:52.079343",
     "status": "completed"
    },
    "tags": []
   },
   "outputs": [
    {
     "data": {
      "text/plain": [
       "(13638, 285)"
      ]
     },
     "execution_count": 15,
     "metadata": {},
     "output_type": "execute_result"
    }
   ],
   "source": [
    "target_col = 'importance'\n",
    "combined.shape"
   ]
  },
  {
   "cell_type": "code",
   "execution_count": 16,
   "metadata": {
    "execution": {
     "iopub.execute_input": "2021-01-24T06:31:52.185353Z",
     "iopub.status.busy": "2021-01-24T06:31:52.184716Z",
     "iopub.status.idle": "2021-01-24T06:31:52.252433Z",
     "shell.execute_reply": "2021-01-24T06:31:52.252876Z"
    },
    "papermill": {
     "duration": 0.097502,
     "end_time": "2021-01-24T06:31:52.253023",
     "exception": false,
     "start_time": "2021-01-24T06:31:52.155521",
     "status": "completed"
    },
    "tags": []
   },
   "outputs": [
    {
     "data": {
      "text/plain": [
       "(8878, 283)"
      ]
     },
     "execution_count": 16,
     "metadata": {},
     "output_type": "execute_result"
    }
   ],
   "source": [
    "combined_train = combined.query('label == \"train\"').drop(['issues', 'label'] , axis=1)\n",
    "combined_train.shape"
   ]
  },
  {
   "cell_type": "code",
   "execution_count": 17,
   "metadata": {
    "execution": {
     "iopub.execute_input": "2021-01-24T06:31:52.312350Z",
     "iopub.status.busy": "2021-01-24T06:31:52.311767Z",
     "iopub.status.idle": "2021-01-24T06:31:52.338443Z",
     "shell.execute_reply": "2021-01-24T06:31:52.337848Z"
    },
    "papermill": {
     "duration": 0.061004,
     "end_time": "2021-01-24T06:31:52.338564",
     "exception": false,
     "start_time": "2021-01-24T06:31:52.277560",
     "status": "completed"
    },
    "tags": []
   },
   "outputs": [
    {
     "name": "stdout",
     "output_type": "stream",
     "text": [
      "7102  samples in training data\n",
      " 1776  samples in test data\n",
      "\n"
     ]
    }
   ],
   "source": [
    "# split test and train\n",
    "X_train, X_test, Y_train, Y_test = \\\n",
    "    train_test_split(combined_train.drop([target_col], axis=1), \n",
    "                     combined_train[target_col], \n",
    "                     test_size=0.2, \n",
    "                     stratify=combined_train[target_col])\n",
    "print(len(X_train),' samples in training data\\n',\n",
    "      len(X_test),' samples in test data\\n', )"
   ]
  },
  {
   "cell_type": "code",
   "execution_count": 18,
   "metadata": {
    "execution": {
     "iopub.execute_input": "2021-01-24T06:31:52.392797Z",
     "iopub.status.busy": "2021-01-24T06:31:52.392209Z",
     "iopub.status.idle": "2021-01-24T06:31:52.395327Z",
     "shell.execute_reply": "2021-01-24T06:31:52.394787Z"
    },
    "papermill": {
     "duration": 0.03247,
     "end_time": "2021-01-24T06:31:52.395424",
     "exception": false,
     "start_time": "2021-01-24T06:31:52.362954",
     "status": "completed"
    },
    "tags": []
   },
   "outputs": [],
   "source": [
    "# choosing different hyperparameters and select the best one\n",
    "clf_dict = {\"LGBM Classifier\": \n",
    "            {'classifier': LGBMClassifier(),\n",
    "                 'params': [\n",
    "                            {\n",
    "                             'learning_rate': [0.01, 0.1, 1.0],\n",
    "                             'n_estimators' :[10, 50, 500, 1000],\n",
    "                             'max_depth':[5, 3,7],\n",
    "                             'max_features' : [3, 5, 7, 11]\n",
    "                            }\n",
    "                           ]\n",
    "            },\n",
    "           }"
   ]
  },
  {
   "cell_type": "code",
   "execution_count": 19,
   "metadata": {
    "execution": {
     "iopub.execute_input": "2021-01-24T06:31:52.448420Z",
     "iopub.status.busy": "2021-01-24T06:31:52.447892Z",
     "iopub.status.idle": "2021-01-24T06:31:52.450797Z",
     "shell.execute_reply": "2021-01-24T06:31:52.450362Z"
    },
    "papermill": {
     "duration": 0.031942,
     "end_time": "2021-01-24T06:31:52.450892",
     "exception": false,
     "start_time": "2021-01-24T06:31:52.418950",
     "status": "completed"
    },
    "tags": []
   },
   "outputs": [],
   "source": [
    "res_df  = pd.DataFrame()\n",
    "num_clf = len(clf_dict.keys())\n",
    "res_df = pd.DataFrame(\n",
    "    data=np.zeros(shape=(num_clf, 3)),\n",
    "    columns = ['classifier',\n",
    "                   'train_score', \n",
    "                   'test_score',\n",
    "            ]\n",
    ")"
   ]
  },
  {
   "cell_type": "code",
   "execution_count": 20,
   "metadata": {
    "execution": {
     "iopub.execute_input": "2021-01-24T06:31:52.507589Z",
     "iopub.status.busy": "2021-01-24T06:31:52.506995Z",
     "iopub.status.idle": "2021-01-24T06:55:53.936584Z",
     "shell.execute_reply": "2021-01-24T06:55:53.935838Z"
    },
    "papermill": {
     "duration": 1441.461235,
     "end_time": "2021-01-24T06:55:53.936718",
     "exception": false,
     "start_time": "2021-01-24T06:31:52.475483",
     "status": "completed"
    },
    "tags": []
   },
   "outputs": [
    {
     "name": "stdout",
     "output_type": "stream",
     "text": [
      "LGBM Classifier {'classifier': LGBMClassifier(), 'params': [{'learning_rate': [0.01, 0.1, 1.0], 'n_estimators': [10, 50, 500, 1000], 'max_depth': [5, 3, 7], 'max_features': [3, 5, 7, 11]}]}\n",
      "LGBM Classifier best params: {'learning_rate': 0.01, 'max_depth': 7, 'max_features': 3, 'n_estimators': 1000}\n",
      "CPU times: user 38.9 s, sys: 727 ms, total: 39.6 s\n",
      "Wall time: 24min 1s\n"
     ]
    },
    {
     "data": {
      "text/html": [
       "<div>\n",
       "<style scoped>\n",
       "    .dataframe tbody tr th:only-of-type {\n",
       "        vertical-align: middle;\n",
       "    }\n",
       "\n",
       "    .dataframe tbody tr th {\n",
       "        vertical-align: top;\n",
       "    }\n",
       "\n",
       "    .dataframe thead th {\n",
       "        text-align: right;\n",
       "    }\n",
       "</style>\n",
       "<table border=\"1\" class=\"dataframe\">\n",
       "  <thead>\n",
       "    <tr style=\"text-align: right;\">\n",
       "      <th></th>\n",
       "      <th>classifier</th>\n",
       "      <th>train_score</th>\n",
       "      <th>test_score</th>\n",
       "    </tr>\n",
       "  </thead>\n",
       "  <tbody>\n",
       "    <tr>\n",
       "      <th>1</th>\n",
       "      <td>LGBM Classifier</td>\n",
       "      <td>0.942833</td>\n",
       "      <td>0.877252</td>\n",
       "    </tr>\n",
       "  </tbody>\n",
       "</table>\n",
       "</div>"
      ],
      "text/plain": [
       "        classifier  train_score  test_score\n",
       "1  LGBM Classifier     0.942833    0.877252"
      ]
     },
     "execution_count": 20,
     "metadata": {},
     "output_type": "execute_result"
    }
   ],
   "source": [
    "%%time\n",
    "count = 0\n",
    "#training the model\n",
    "for key, clf in clf_dict.items():\n",
    "    print(key, clf)\n",
    "\n",
    "    grid = GridSearchCV(clf[\"classifier\"],\n",
    "                        clf[\"params\"],\n",
    "                        refit=True,\n",
    "                        cv=10,\n",
    "                        scoring = 'accuracy',\n",
    "                        n_jobs = -1,\n",
    "                        verbose=0\n",
    "                        \n",
    "                       )\n",
    "    estimator = grid.fit( X_train,Y_train)\n",
    "    \n",
    "    train_score = estimator.score(X_train,Y_train)\n",
    "    \n",
    "    test_score = estimator.score(X_test,Y_test)\n",
    "    \n",
    "    count+=1\n",
    "    \n",
    "    res_df.loc[count,'classifier'] = key\n",
    "    res_df.loc[count,'train_score'] = train_score\n",
    "    res_df.loc[count,'test_score'] = test_score\n",
    "    print(f\"{key} best params: {grid.best_params_}\")\n",
    "    \n",
    "res_df.iloc[1:, :]"
   ]
  },
  {
   "cell_type": "code",
   "execution_count": 21,
   "metadata": {
    "execution": {
     "iopub.execute_input": "2021-01-24T06:55:54.011479Z",
     "iopub.status.busy": "2021-01-24T06:55:54.010821Z",
     "iopub.status.idle": "2021-01-24T06:56:00.401147Z",
     "shell.execute_reply": "2021-01-24T06:56:00.400647Z"
    },
    "papermill": {
     "duration": 6.430843,
     "end_time": "2021-01-24T06:56:00.401300",
     "exception": false,
     "start_time": "2021-01-24T06:55:53.970457",
     "status": "completed"
    },
    "tags": []
   },
   "outputs": [
    {
     "name": "stdout",
     "output_type": "stream",
     "text": [
      "Cross Validating...\n",
      "cv score:  87.46831878344128\n"
     ]
    }
   ],
   "source": [
    "#Light Gradient Boosting Machine ensemble machine learning algorithm\n",
    "xgbm = LGBMClassifier(max_depth=6, learning_rate=0.1, n_estimators=500,\n",
    "                         min_child_weight=100, subsample=1.0, \n",
    "                         colsample_bytree=0.8, colsample_bylevel=0.8,\n",
    "                         random_state=42, n_jobs=-1)\n",
    "\n",
    "\n",
    "print(\"Cross Validating...\")\n",
    "oof_preds = cross_val_predict(xgbm, X_train, Y_train, cv=5, \n",
    "                                  n_jobs=-1, method=\"predict\")\n",
    "print(\"cv score: \", accuracy_score(oof_preds, Y_train) * 100)"
   ]
  },
  {
   "cell_type": "code",
   "execution_count": 22,
   "metadata": {
    "collapsed": true,
    "execution": {
     "iopub.execute_input": "2021-01-24T06:56:00.470399Z",
     "iopub.status.busy": "2021-01-24T06:56:00.465312Z",
     "iopub.status.idle": "2021-01-24T06:56:00.578449Z",
     "shell.execute_reply": "2021-01-24T06:56:00.577919Z"
    },
    "papermill": {
     "duration": 0.14946,
     "end_time": "2021-01-24T06:56:00.578560",
     "exception": false,
     "start_time": "2021-01-24T06:56:00.429100",
     "status": "completed"
    },
    "tags": []
   },
   "outputs": [
    {
     "ename": "NameError",
     "evalue": "name 'pred' is not defined",
     "output_type": "error",
     "traceback": [
      "\u001b[0;31m---------------------------------------------------------------------------\u001b[0m",
      "\u001b[0;31mNameError\u001b[0m                                 Traceback (most recent call last)",
      "\u001b[0;32m<ipython-input-22-4f4319601782>\u001b[0m in \u001b[0;36m<module>\u001b[0;34m\u001b[0m\n\u001b[1;32m      1\u001b[0m \u001b[0mtst\u001b[0m \u001b[0;34m=\u001b[0m \u001b[0mcombined\u001b[0m\u001b[0;34m.\u001b[0m\u001b[0mquery\u001b[0m\u001b[0;34m(\u001b[0m\u001b[0;34m'label == \"test\"'\u001b[0m\u001b[0;34m)\u001b[0m\u001b[0;34m.\u001b[0m\u001b[0mdrop\u001b[0m\u001b[0;34m(\u001b[0m\u001b[0;34m[\u001b[0m\u001b[0;34m'issues'\u001b[0m\u001b[0;34m,\u001b[0m \u001b[0;34m'label'\u001b[0m\u001b[0;34m,\u001b[0m \u001b[0mtarget_col\u001b[0m\u001b[0;34m]\u001b[0m \u001b[0;34m,\u001b[0m \u001b[0maxis\u001b[0m\u001b[0;34m=\u001b[0m\u001b[0;36m1\u001b[0m\u001b[0;34m)\u001b[0m\u001b[0;34m\u001b[0m\u001b[0;34m\u001b[0m\u001b[0m\n\u001b[1;32m      2\u001b[0m \u001b[0;31m#prediction\u001b[0m\u001b[0;34m\u001b[0m\u001b[0;34m\u001b[0m\u001b[0;34m\u001b[0m\u001b[0m\n\u001b[0;32m----> 3\u001b[0;31m \u001b[0mpreds\u001b[0m \u001b[0;34m=\u001b[0m \u001b[0mpred\u001b[0m\u001b[0;34m.\u001b[0m\u001b[0mpredict\u001b[0m\u001b[0;34m(\u001b[0m\u001b[0mtst\u001b[0m\u001b[0;34m)\u001b[0m\u001b[0;34m\u001b[0m\u001b[0;34m\u001b[0m\u001b[0m\n\u001b[0m\u001b[1;32m      4\u001b[0m \u001b[0mpreds\u001b[0m\u001b[0;34m\u001b[0m\u001b[0;34m\u001b[0m\u001b[0m\n",
      "\u001b[0;31mNameError\u001b[0m: name 'pred' is not defined"
     ]
    }
   ],
   "source": [
    "tst = combined.query('label == \"test\"').drop(['issues', 'label', target_col] , axis=1)\n",
    "#prediction\n",
    "preds = pred.predict(tst)\n",
    "preds"
   ]
  },
  {
   "cell_type": "code",
   "execution_count": 23,
   "metadata": {
    "collapsed": true,
    "execution": {
     "iopub.execute_input": "2021-01-24T06:56:00.647551Z",
     "iopub.status.busy": "2021-01-24T06:56:00.640621Z",
     "iopub.status.idle": "2021-01-24T06:56:00.653020Z",
     "shell.execute_reply": "2021-01-24T06:56:00.652447Z"
    },
    "papermill": {
     "duration": 0.046953,
     "end_time": "2021-01-24T06:56:00.653128",
     "exception": false,
     "start_time": "2021-01-24T06:56:00.606175",
     "status": "completed"
    },
    "tags": []
   },
   "outputs": [
    {
     "ename": "NameError",
     "evalue": "name 'preds' is not defined",
     "output_type": "error",
     "traceback": [
      "\u001b[0;31m---------------------------------------------------------------------------\u001b[0m",
      "\u001b[0;31mNameError\u001b[0m                                 Traceback (most recent call last)",
      "\u001b[0;32m<ipython-input-23-79e73991f3d5>\u001b[0m in \u001b[0;36m<module>\u001b[0;34m\u001b[0m\n\u001b[1;32m      1\u001b[0m \u001b[0msub\u001b[0m \u001b[0;34m=\u001b[0m \u001b[0mpd\u001b[0m\u001b[0;34m.\u001b[0m\u001b[0mDataFrame\u001b[0m\u001b[0;34m(\u001b[0m\u001b[0mcolumns\u001b[0m\u001b[0;34m=\u001b[0m\u001b[0;34m[\u001b[0m\u001b[0;34m\"appno\"\u001b[0m\u001b[0;34m,\u001b[0m\u001b[0;34m\"importance\"\u001b[0m\u001b[0;34m]\u001b[0m\u001b[0;34m)\u001b[0m\u001b[0;34m\u001b[0m\u001b[0;34m\u001b[0m\u001b[0m\n\u001b[1;32m      2\u001b[0m \u001b[0msub\u001b[0m\u001b[0;34m[\u001b[0m\u001b[0;34m\"appno\"\u001b[0m\u001b[0;34m]\u001b[0m \u001b[0;34m=\u001b[0m \u001b[0mtest\u001b[0m\u001b[0;34m.\u001b[0m\u001b[0mappno\u001b[0m\u001b[0;34m\u001b[0m\u001b[0;34m\u001b[0m\u001b[0m\n\u001b[0;32m----> 3\u001b[0;31m \u001b[0msub\u001b[0m\u001b[0;34m[\u001b[0m\u001b[0;34m\"importance\"\u001b[0m\u001b[0;34m]\u001b[0m \u001b[0;34m=\u001b[0m \u001b[0mpreds\u001b[0m\u001b[0;34m\u001b[0m\u001b[0;34m\u001b[0m\u001b[0m\n\u001b[0m",
      "\u001b[0;31mNameError\u001b[0m: name 'preds' is not defined"
     ]
    }
   ],
   "source": [
    "sub = pd.DataFrame(columns=[\"appno\",\"importance\"])\n",
    "sub[\"appno\"] = test.appno\n",
    "sub[\"importance\"] = preds\n"
   ]
  },
  {
   "cell_type": "code",
   "execution_count": 24,
   "metadata": {
    "execution": {
     "iopub.execute_input": "2021-01-24T06:56:00.723662Z",
     "iopub.status.busy": "2021-01-24T06:56:00.714754Z",
     "iopub.status.idle": "2021-01-24T06:56:00.726494Z",
     "shell.execute_reply": "2021-01-24T06:56:00.725946Z"
    },
    "papermill": {
     "duration": 0.046056,
     "end_time": "2021-01-24T06:56:00.726596",
     "exception": false,
     "start_time": "2021-01-24T06:56:00.680540",
     "status": "completed"
    },
    "tags": []
   },
   "outputs": [],
   "source": [
    "sub.to_csv(\"submission2.csv\", index=False)"
   ]
  },
  {
   "cell_type": "code",
   "execution_count": null,
   "metadata": {
    "papermill": {
     "duration": 0.026844,
     "end_time": "2021-01-24T06:56:00.781951",
     "exception": false,
     "start_time": "2021-01-24T06:56:00.755107",
     "status": "completed"
    },
    "tags": []
   },
   "outputs": [],
   "source": []
  }
 ],
 "metadata": {
  "kernelspec": {
   "display_name": "Python 3",
   "language": "python",
   "name": "python3"
  },
  "language_info": {
   "codemirror_mode": {
    "name": "ipython",
    "version": 3
   },
   "file_extension": ".py",
   "mimetype": "text/x-python",
   "name": "python",
   "nbconvert_exporter": "python",
   "pygments_lexer": "ipython3",
   "version": "3.7.6"
  },
  "papermill": {
   "duration": 1458.455906,
   "end_time": "2021-01-24T06:56:00.916573",
   "environment_variables": {},
   "exception": null,
   "input_path": "__notebook__.ipynb",
   "output_path": "__notebook__.ipynb",
   "parameters": {},
   "start_time": "2021-01-24T06:31:42.460667",
   "version": "2.1.0"
  }
 },
 "nbformat": 4,
 "nbformat_minor": 4
}
